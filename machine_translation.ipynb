{
 "cells": [
  {
   "cell_type": "markdown",
   "metadata": {
    "collapsed": true
   },
   "source": [
    "# Artificial Intelligence Nanodegree\n",
    "## Machine Translation Project\n",
    "In this notebook, sections that end with **'(IMPLEMENTATION)'** in the header indicate that the following blocks of code will require additional functionality which you must provide. Please be sure to read the instructions carefully!\n",
    "\n",
    "## Introduction\n",
    "In this notebook, you will build a deep neural network that functions as part of an end-to-end machine translation pipeline. Your completed pipeline will accept English text as input and return the French translation.\n",
    "\n",
    "- **Preprocess** - You'll convert text to sequence of integers.\n",
    "- **Models** Create models which accepts a sequence of integers as input and returns a probability distribution over possible translations. After learning about the basic types of neural networks that are often used for machine translation, you will engage in your own investigations, to design your own model!\n",
    "- **Prediction** Run the model on English text."
   ]
  },
  {
   "cell_type": "code",
   "execution_count": 1,
   "metadata": {},
   "outputs": [],
   "source": [
    "%load_ext autoreload\n",
    "%aimport helper, tests\n",
    "%autoreload 1"
   ]
  },
  {
   "cell_type": "code",
   "execution_count": 31,
   "metadata": {},
   "outputs": [],
   "source": [
    "import collections\n",
    "\n",
    "import helper\n",
    "import numpy as np\n",
    "import project_tests as tests\n",
    "\n",
    "from keras.preprocessing.text import Tokenizer\n",
    "from keras.preprocessing.sequence import pad_sequences\n",
    "from keras.models import Model\n",
    "from keras.layers import GRU, Input, Dense, TimeDistributed, Activation, RepeatVector, Bidirectional, SimpleRNN, LSTM\n",
    "from keras.layers.embeddings import Embedding\n",
    "from keras.optimizers import Adam\n",
    "from keras.losses import sparse_categorical_crossentropy\n",
    "from keras.models import Sequential\n",
    "from keras import optimizers\n",
    "from keras.layers import BatchNormalization\n",
    "from keras.callbacks import EarlyStopping"
   ]
  },
  {
   "cell_type": "markdown",
   "metadata": {},
   "source": [
    "### Verify access to the GPU\n",
    "The following test applies only if you expect to be using a GPU, e.g., while running in a Udacity Workspace or using an AWS instance with GPU support. Run the next cell, and verify that the device_type is \"GPU\".\n",
    "- If the device is not GPU & you are running from a Udacity Workspace, then save your workspace with the icon at the top, then click \"enable\" at the bottom of the workspace.\n",
    "- If the device is not GPU & you are running from an AWS instance, then refer to the cloud computing instructions in the classroom to verify your setup steps."
   ]
  },
  {
   "cell_type": "code",
   "execution_count": 3,
   "metadata": {},
   "outputs": [
    {
     "name": "stdout",
     "output_type": "stream",
     "text": [
      "[name: \"/cpu:0\"\n",
      "device_type: \"CPU\"\n",
      "memory_limit: 268435456\n",
      "locality {\n",
      "}\n",
      "incarnation: 18180480101438313555\n",
      ", name: \"/gpu:0\"\n",
      "device_type: \"GPU\"\n",
      "memory_limit: 357302272\n",
      "locality {\n",
      "  bus_id: 1\n",
      "}\n",
      "incarnation: 11975734639399191293\n",
      "physical_device_desc: \"device: 0, name: Tesla K80, pci bus id: 0000:00:04.0\"\n",
      "]\n"
     ]
    }
   ],
   "source": [
    "from tensorflow.python.client import device_lib\n",
    "print(device_lib.list_local_devices())"
   ]
  },
  {
   "cell_type": "code",
   "execution_count": 4,
   "metadata": {},
   "outputs": [
    {
     "name": "stdout",
     "output_type": "stream",
     "text": [
      "Python 3.6.3\r\n"
     ]
    }
   ],
   "source": [
    "# Check current python version\n",
    "!python --version"
   ]
  },
  {
   "cell_type": "markdown",
   "metadata": {},
   "source": [
    "## Dataset\n",
    "We begin by investigating the dataset that will be used to train and evaluate your pipeline.  The most common datasets used for machine translation are from [WMT](http://www.statmt.org/).  However, that will take a long time to train a neural network on.  We'll be using a dataset we created for this project that contains a small vocabulary.  You'll be able to train your model in a reasonable time with this dataset.\n",
    "### Load Data\n",
    "The data is located in `data/small_vocab_en` and `data/small_vocab_fr`. The `small_vocab_en` file contains English sentences with their French translations in the `small_vocab_fr` file. Load the English and French data from these files from running the cell below."
   ]
  },
  {
   "cell_type": "code",
   "execution_count": 5,
   "metadata": {},
   "outputs": [
    {
     "name": "stdout",
     "output_type": "stream",
     "text": [
      "Dataset Loaded\n"
     ]
    }
   ],
   "source": [
    "# Load English data\n",
    "english_sentences = helper.load_data('data/small_vocab_en')\n",
    "# Load French data\n",
    "french_sentences = helper.load_data('data/small_vocab_fr')\n",
    "\n",
    "print('Dataset Loaded')"
   ]
  },
  {
   "cell_type": "markdown",
   "metadata": {},
   "source": [
    "### Files\n",
    "Each line in `small_vocab_en` contains an English sentence with the respective translation in each line of `small_vocab_fr`.  View the first two lines from each file."
   ]
  },
  {
   "cell_type": "code",
   "execution_count": 6,
   "metadata": {},
   "outputs": [
    {
     "name": "stdout",
     "output_type": "stream",
     "text": [
      "small_vocab_en Line 1:  new jersey is sometimes quiet during autumn , and it is snowy in april .\n",
      "small_vocab_fr Line 1:  new jersey est parfois calme pendant l' automne , et il est neigeux en avril .\n",
      "small_vocab_en Line 2:  the united states is usually chilly during july , and it is usually freezing in november .\n",
      "small_vocab_fr Line 2:  les états-unis est généralement froid en juillet , et il gèle habituellement en novembre .\n"
     ]
    }
   ],
   "source": [
    "for sample_i in range(2):\n",
    "    print('small_vocab_en Line {}:  {}'.format(sample_i + 1, english_sentences[sample_i]))\n",
    "    print('small_vocab_fr Line {}:  {}'.format(sample_i + 1, french_sentences[sample_i]))"
   ]
  },
  {
   "cell_type": "markdown",
   "metadata": {},
   "source": [
    "From looking at the sentences, you can see they have been preprocessed already.  The puncuations have been delimited using spaces. All the text have been converted to lowercase.  This should save you some time, but the text requires more preprocessing.\n",
    "### Vocabulary\n",
    "The complexity of the problem is determined by the complexity of the vocabulary.  A more complex vocabulary is a more complex problem.  Let's look at the complexity of the dataset we'll be working with."
   ]
  },
  {
   "cell_type": "code",
   "execution_count": 7,
   "metadata": {},
   "outputs": [
    {
     "name": "stdout",
     "output_type": "stream",
     "text": [
      "1823250 English words.\n",
      "227 unique English words.\n",
      "10 Most common words in the English dataset:\n",
      "\"is\" \",\" \".\" \"in\" \"it\" \"during\" \"the\" \"but\" \"and\" \"sometimes\"\n",
      "\n",
      "1961295 French words.\n",
      "355 unique French words.\n",
      "10 Most common words in the French dataset:\n",
      "\"est\" \".\" \",\" \"en\" \"il\" \"les\" \"mais\" \"et\" \"la\" \"parfois\"\n"
     ]
    }
   ],
   "source": [
    "english_words_counter = collections.Counter([word for sentence in english_sentences for word in sentence.split()])\n",
    "french_words_counter = collections.Counter([word for sentence in french_sentences for word in sentence.split()])\n",
    "\n",
    "print('{} English words.'.format(len([word for sentence in english_sentences for word in sentence.split()])))\n",
    "print('{} unique English words.'.format(len(english_words_counter)))\n",
    "print('10 Most common words in the English dataset:')\n",
    "print('\"' + '\" \"'.join(list(zip(*english_words_counter.most_common(10)))[0]) + '\"')\n",
    "print()\n",
    "print('{} French words.'.format(len([word for sentence in french_sentences for word in sentence.split()])))\n",
    "print('{} unique French words.'.format(len(french_words_counter)))\n",
    "print('10 Most common words in the French dataset:')\n",
    "print('\"' + '\" \"'.join(list(zip(*french_words_counter.most_common(10)))[0]) + '\"')"
   ]
  },
  {
   "cell_type": "markdown",
   "metadata": {},
   "source": [
    "For comparison, _Alice's Adventures in Wonderland_ contains 2,766 unique words of a total of 15,500 words.\n",
    "## Preprocess\n",
    "For this project, you won't use text data as input to your model. Instead, you'll convert the text into sequences of integers using the following preprocess methods:\n",
    "1. Tokenize the words into ids\n",
    "2. Add padding to make all the sequences the same length.\n",
    "\n",
    "Time to start preprocessing the data...\n",
    "### Tokenize (IMPLEMENTATION)\n",
    "For a neural network to predict on text data, it first has to be turned into data it can understand. Text data like \"dog\" is a sequence of ASCII character encodings.  Since a neural network is a series of multiplication and addition operations, the input data needs to be number(s).\n",
    "\n",
    "We can turn each character into a number or each word into a number.  These are called character and word ids, respectively.  Character ids are used for character level models that generate text predictions for each character.  A word level model uses word ids that generate text predictions for each word.  Word level models tend to learn better, since they are lower in complexity, so we'll use those.\n",
    "\n",
    "Turn each sentence into a sequence of words ids using Keras's [`Tokenizer`](https://keras.io/preprocessing/text/#tokenizer) function. Use this function to tokenize `english_sentences` and `french_sentences` in the cell below.\n",
    "\n",
    "Running the cell will run `tokenize` on sample data and show output for debugging."
   ]
  },
  {
   "cell_type": "code",
   "execution_count": 8,
   "metadata": {},
   "outputs": [
    {
     "name": "stdout",
     "output_type": "stream",
     "text": [
      "{'the': 1, 'quick': 2, 'a': 3, 'brown': 4, 'fox': 5, 'jumps': 6, 'over': 7, 'lazy': 8, 'dog': 9, 'by': 10, 'jove': 11, 'my': 12, 'study': 13, 'of': 14, 'lexicography': 15, 'won': 16, 'prize': 17, 'this': 18, 'is': 19, 'short': 20, 'sentence': 21}\n",
      "\n",
      "Sequence 1 in x\n",
      "  Input:  The quick brown fox jumps over the lazy dog .\n",
      "  Output: [1, 2, 4, 5, 6, 7, 1, 8, 9]\n",
      "Sequence 2 in x\n",
      "  Input:  By Jove , my quick study of lexicography won a prize .\n",
      "  Output: [10, 11, 12, 2, 13, 14, 15, 16, 3, 17]\n",
      "Sequence 3 in x\n",
      "  Input:  This is a short sentence .\n",
      "  Output: [18, 19, 3, 20, 21]\n"
     ]
    }
   ],
   "source": [
    "def tokenize(x):\n",
    "    \"\"\"\n",
    "    Tokenize x\n",
    "    :param x: List of sentences/strings to be tokenized\n",
    "    :return: Tuple of (tokenized x data, tokenizer used to tokenize x)\n",
    "    \"\"\"\n",
    "    # TODO: Implement ===> OK\n",
    "        \n",
    "    tk = Tokenizer(num_words=None, filters='!\"#$%&()*+,-./:;<=>?@[\\]^_`{|}~', \n",
    "              lower=True, split=' ', char_level=False)\n",
    "    tk.fit_on_texts(x)\n",
    "    # tk.num_words = 2  # Only the most common num_words words will be kept (~assert to testing)\n",
    " \n",
    "    return tk.texts_to_sequences(x), tk # 0 is a reserved index that won't be assigned to any word, therefore indexing\n",
    "                                        # starts on 1\n",
    "tests.test_tokenize(tokenize)\n",
    "\n",
    "# Tokenize Example output\n",
    "text_sentences = [\n",
    "    'The quick brown fox jumps over the lazy dog .',\n",
    "    'By Jove , my quick study of lexicography won a prize .',\n",
    "    'This is a short sentence .']\n",
    "\n",
    "text_tokenized, text_tokenizer = tokenize(text_sentences)\n",
    "\n",
    "print(text_tokenizer.word_index)\n",
    "print()\n",
    "\n",
    "for sample_i, (sent, token_sent) in enumerate(zip(text_sentences, text_tokenized)):\n",
    "    print('Sequence {} in x'.format(sample_i + 1))\n",
    "    print('  Input:  {}'.format(sent))\n",
    "    print('  Output: {}'.format(token_sent))"
   ]
  },
  {
   "cell_type": "markdown",
   "metadata": {},
   "source": [
    "### Padding (IMPLEMENTATION)\n",
    "When batching the sequence of word ids together, each sequence needs to be the same length.  Since sentences are dynamic in length, we can add padding to the end of the sequences to make them the same length.\n",
    "\n",
    "Make sure all the English sequences have the same length and all the French sequences have the same length by adding padding to the **end** of each sequence using Keras's [`pad_sequences`](https://keras.io/preprocessing/sequence/#pad_sequences) function."
   ]
  },
  {
   "cell_type": "code",
   "execution_count": 9,
   "metadata": {},
   "outputs": [
    {
     "name": "stdout",
     "output_type": "stream",
     "text": [
      "Sequence 1 in x\n",
      "  Input:  [1 2 4 5 6 7 1 8 9]\n",
      "  Output: [1 2 4 5 6 7 1 8 9 0]\n",
      "Sequence 2 in x\n",
      "  Input:  [10 11 12  2 13 14 15 16  3 17]\n",
      "  Output: [10 11 12  2 13 14 15 16  3 17]\n",
      "Sequence 3 in x\n",
      "  Input:  [18 19  3 20 21]\n",
      "  Output: [18 19  3 20 21  0  0  0  0  0]\n"
     ]
    }
   ],
   "source": [
    "def pad(x, length=None):\n",
    "    \"\"\"\n",
    "    Pad x\n",
    "    :param x: List of sequences.\n",
    "    :param length: Length to pad the sequence to.  If None, use length of longest sequence in x.\n",
    "    :return: Padded numpy array of sequences\n",
    "    \"\"\"\n",
    "    # TODO: Implement ===> OK\n",
    "    return pad_sequences(x, maxlen=length, padding='post') # end of the sequences \n",
    "\n",
    "tests.test_pad(pad)\n",
    "\n",
    "# Pad Tokenized output\n",
    "test_pad = pad(text_tokenized)\n",
    "for sample_i, (token_sent, pad_sent) in enumerate(zip(text_tokenized, test_pad)):\n",
    "    print('Sequence {} in x'.format(sample_i + 1))\n",
    "    print('  Input:  {}'.format(np.array(token_sent)))\n",
    "    print('  Output: {}'.format(pad_sent))"
   ]
  },
  {
   "cell_type": "markdown",
   "metadata": {},
   "source": [
    "### Preprocess Pipeline\n",
    "Your focus for this project is to build neural network architecture, so we won't ask you to create a preprocess pipeline.  Instead, we've provided you with the implementation of the `preprocess` function."
   ]
  },
  {
   "cell_type": "code",
   "execution_count": 10,
   "metadata": {},
   "outputs": [
    {
     "name": "stdout",
     "output_type": "stream",
     "text": [
      "(137861, 15)\n",
      "(137861, 21, 1)\n",
      "\n",
      "Data Preprocessed\n",
      "Max English sentence length: 15\n",
      "Max French sentence length: 21\n",
      "English vocabulary size: 199\n",
      "French vocabulary size: 344\n"
     ]
    }
   ],
   "source": [
    "def preprocess(x, y):\n",
    "    \"\"\"\n",
    "    Preprocess x and y\n",
    "    :param x: Feature List of sentences\n",
    "    :param y: Label List of sentences\n",
    "    :return: Tuple of (Preprocessed x, Preprocessed y, x tokenizer, y tokenizer)\n",
    "    \"\"\"\n",
    "    preprocess_x, x_tk = tokenize(x) # tokenize input\n",
    "    preprocess_y, y_tk = tokenize(y) # tokenize labels\n",
    "\n",
    "    preprocess_x = pad(preprocess_x) # pad input\n",
    "    preprocess_y = pad(preprocess_y) # pad labels\n",
    "\n",
    "    # Keras's sparse_categorical_crossentropy function requires the labels to be in 3 dimensions\n",
    "    preprocess_y = preprocess_y.reshape(*preprocess_y.shape, 1)\n",
    "\n",
    "    return preprocess_x, preprocess_y, x_tk, y_tk\n",
    "\n",
    "preproc_english_sentences, preproc_french_sentences, english_tokenizer, french_tokenizer =\\\n",
    "    preprocess(english_sentences, french_sentences)\n",
    "\n",
    "    \n",
    "print(preproc_english_sentences.shape) # number of sentence of the corpus, max sentence length\n",
    "print(preproc_french_sentences.shape) # number of sentence of the corpus, max sentence length\n",
    "print()\n",
    "max_english_sequence_length = preproc_english_sentences.shape[1]\n",
    "max_french_sequence_length = preproc_french_sentences.shape[1]\n",
    "english_vocab_size = len(english_tokenizer.word_index)\n",
    "french_vocab_size = len(french_tokenizer.word_index)\n",
    "\n",
    "print('Data Preprocessed')\n",
    "print(\"Max English sentence length:\", max_english_sequence_length)\n",
    "print(\"Max French sentence length:\", max_french_sequence_length)\n",
    "print(\"English vocabulary size:\", english_vocab_size)\n",
    "print(\"French vocabulary size:\", french_vocab_size)"
   ]
  },
  {
   "cell_type": "markdown",
   "metadata": {},
   "source": [
    "## Models\n",
    "In this section, you will experiment with various neural network architectures.\n",
    "You will begin by training four relatively simple architectures.\n",
    "- Model 1 is a simple RNN\n",
    "- Model 2 is a RNN with Embedding\n",
    "- Model 3 is a Bidirectional RNN\n",
    "- Model 4 is an optional Encoder-Decoder RNN\n",
    "\n",
    "After experimenting with the four simple architectures, you will construct a deeper architecture that is designed to outperform all four models.\n",
    "### Ids Back to Text\n",
    "The neural network will be translating the input to words ids, which isn't the final form we want.  We want the French translation.  The function `logits_to_text` will bridge the gab between the logits from the neural network to the French translation.  You'll be using this function to better understand the output of the neural network."
   ]
  },
  {
   "cell_type": "code",
   "execution_count": 11,
   "metadata": {},
   "outputs": [
    {
     "name": "stdout",
     "output_type": "stream",
     "text": [
      "`logits_to_text` function loaded.\n"
     ]
    }
   ],
   "source": [
    "def logits_to_text(logits, tokenizer):\n",
    "    \"\"\"\n",
    "    Turn logits from a neural network into text using the tokenizer\n",
    "    :param logits: Logits from a neural network\n",
    "    :param tokenizer: Keras Tokenizer fit on the labels\n",
    "    :return: String that represents the text of the logits\n",
    "    \"\"\"\n",
    "    index_to_words = {id: word for word, id in tokenizer.word_index.items()}\n",
    "    index_to_words[0] = '<PAD>'\n",
    "\n",
    "    return ' '.join([index_to_words[prediction] for prediction in np.argmax(logits, 1)])\n",
    "\n",
    "print('`logits_to_text` function loaded.')"
   ]
  },
  {
   "cell_type": "markdown",
   "metadata": {},
   "source": [
    "### Model 1: RNN (IMPLEMENTATION)\n",
    "![RNN](images/rnn.png)\n",
    "A basic RNN model is a good baseline for sequence data.  In this model, you'll build a RNN that translates English to French."
   ]
  },
  {
   "cell_type": "code",
   "execution_count": 48,
   "metadata": {},
   "outputs": [
    {
     "name": "stdout",
     "output_type": "stream",
     "text": [
      "_________________________________________________________________\n",
      "Layer (type)                 Output Shape              Param #   \n",
      "=================================================================\n",
      "lstm_24 (LSTM)               (None, 21, 200)           161600    \n",
      "_________________________________________________________________\n",
      "dense_34 (Dense)             (None, 21, 344)           69144     \n",
      "_________________________________________________________________\n",
      "batch_normalization_14 (Batc (None, 21, 344)           1376      \n",
      "_________________________________________________________________\n",
      "time_distributed_21 (TimeDis (None, 21, 344)           118680    \n",
      "_________________________________________________________________\n",
      "activation_14 (Activation)   (None, 21, 344)           0         \n",
      "=================================================================\n",
      "Total params: 350,800\n",
      "Trainable params: 350,112\n",
      "Non-trainable params: 688\n",
      "_________________________________________________________________\n"
     ]
    }
   ],
   "source": [
    "def simple_model(input_shape, output_sequence_length, english_vocab_size, french_vocab_size):\n",
    "    \"\"\"\n",
    "    Build and train a basic RNN on x and y\n",
    "    :param input_shape: Tuple of input shape\n",
    "    :param output_sequence_length: Length of output sequence\n",
    "    :param english_vocab_size: Number of unique English words in the dataset\n",
    "    :param french_vocab_size: Number of unique French words in the dataset\n",
    "    :return: Keras model built, but not trained\n",
    "    \"\"\"\n",
    "    # TODO: Build the layers ===> OK\n",
    "    \n",
    "    # print(input_shape) # (137861, 21, 1) \n",
    "        \n",
    "    model = Sequential()\n",
    "    model.add(LSTM(input_shape=input_shape[1:], units=200, return_sequences=True)) \n",
    "    model.add(Dense(french_vocab_size, kernel_initializer='uniform'))\n",
    "    model.add(BatchNormalization())\n",
    "    model.add(TimeDistributed(Dense(french_vocab_size, kernel_initializer='random_uniform',\n",
    "                bias_initializer='zeros'))) # labels: french vocab size (categories)\n",
    "    model.add(Activation('softmax'))\n",
    "\n",
    "    # Define a custom optimizer to clip the gradients and avoid exploding gradients (val_loss: nan)\n",
    "    \n",
    "    custom_optimizer = optimizers.SGD(lr=0.01, clipnorm=0.5)\n",
    "    \n",
    "    model.compile(loss=sparse_categorical_crossentropy, optimizer=custom_optimizer, metrics=['accuracy'])   \n",
    "    model.summary()\n",
    "    \n",
    "    return model\n",
    "\n",
    "tests.test_simple_model(simple_model)"
   ]
  },
  {
   "cell_type": "code",
   "execution_count": 49,
   "metadata": {},
   "outputs": [],
   "source": [
    "# Reshaping the input to work with a basic RNN\n",
    "\n",
    "# Originally English input sentences had a shape (137861, 15). Let's pad to make them same shape as French output.  \n",
    "tmp_x = pad(preproc_english_sentences, max_french_sequence_length) # (137861, 21) \n",
    "# Now we have 137861 samples of a 2D tensor with shape (21, 1) \n",
    "tmp_x = tmp_x.reshape((-1, preproc_french_sentences.shape[-2], 1)) # (137861, 21, 1)"
   ]
  },
  {
   "cell_type": "code",
   "execution_count": 50,
   "metadata": {},
   "outputs": [
    {
     "name": "stdout",
     "output_type": "stream",
     "text": [
      "_________________________________________________________________\n",
      "Layer (type)                 Output Shape              Param #   \n",
      "=================================================================\n",
      "lstm_25 (LSTM)               (None, 21, 200)           161600    \n",
      "_________________________________________________________________\n",
      "dense_36 (Dense)             (None, 21, 344)           69144     \n",
      "_________________________________________________________________\n",
      "batch_normalization_15 (Batc (None, 21, 344)           1376      \n",
      "_________________________________________________________________\n",
      "time_distributed_22 (TimeDis (None, 21, 344)           118680    \n",
      "_________________________________________________________________\n",
      "activation_15 (Activation)   (None, 21, 344)           0         \n",
      "=================================================================\n",
      "Total params: 350,800\n",
      "Trainable params: 350,112\n",
      "Non-trainable params: 688\n",
      "_________________________________________________________________\n",
      "Train on 110288 samples, validate on 27573 samples\n",
      "Epoch 1/10\n",
      "110288/110288 [==============================] - 39s 356us/step - loss: 2.8921 - acc: 0.4735 - val_loss: nan - val_acc: 0.5334\n",
      "Epoch 2/10\n",
      "110288/110288 [==============================] - 36s 330us/step - loss: 2.0617 - acc: 0.5553 - val_loss: nan - val_acc: 0.5700\n",
      "Epoch 3/10\n",
      "110288/110288 [==============================] - 36s 330us/step - loss: 1.8737 - acc: 0.5716 - val_loss: nan - val_acc: 0.5799\n",
      "Epoch 4/10\n",
      "110288/110288 [==============================] - 36s 330us/step - loss: 1.7728 - acc: 0.5809 - val_loss: nan - val_acc: 0.5857\n",
      "Epoch 5/10\n",
      "110288/110288 [==============================] - 37s 331us/step - loss: 1.7016 - acc: 0.5893 - val_loss: nan - val_acc: 0.5915\n",
      "Epoch 6/10\n",
      "110288/110288 [==============================] - 38s 345us/step - loss: 1.6482 - acc: 0.5948 - val_loss: nan - val_acc: 0.5930\n",
      "Epoch 7/10\n",
      "110288/110288 [==============================] - 39s 352us/step - loss: 1.6059 - acc: 0.5982 - val_loss: nan - val_acc: 0.6000\n",
      "Epoch 8/10\n",
      "110288/110288 [==============================] - 39s 352us/step - loss: 1.5703 - acc: 0.6015 - val_loss: nan - val_acc: 0.6058\n",
      "Epoch 9/10\n",
      "110288/110288 [==============================] - 41s 368us/step - loss: 1.5413 - acc: 0.6052 - val_loss: nan - val_acc: 0.6104\n",
      "Epoch 10/10\n",
      "110288/110288 [==============================] - 41s 371us/step - loss: 1.5168 - acc: 0.6091 - val_loss: nan - val_acc: 0.6117\n"
     ]
    },
    {
     "data": {
      "text/plain": [
       "<keras.callbacks.History at 0x7f4e752f4908>"
      ]
     },
     "execution_count": 50,
     "metadata": {},
     "output_type": "execute_result"
    }
   ],
   "source": [
    "# Train the neural network\n",
    "simple_rnn_model = simple_model(\n",
    "    tmp_x.shape,\n",
    "    max_french_sequence_length,\n",
    "    english_vocab_size,\n",
    "    french_vocab_size)\n",
    "\n",
    "simple_rnn_model.fit(tmp_x, preproc_french_sentences, batch_size=128, epochs=10, validation_split=0.2)"
   ]
  },
  {
   "cell_type": "code",
   "execution_count": 15,
   "metadata": {},
   "outputs": [
    {
     "name": "stdout",
     "output_type": "stream",
     "text": [
      "[[17]\n",
      " [23]\n",
      " [ 1]\n",
      " [ 8]\n",
      " [67]\n",
      " [ 4]\n",
      " [39]\n",
      " [ 7]\n",
      " [ 3]\n",
      " [ 1]\n",
      " [55]\n",
      " [ 2]\n",
      " [44]\n",
      " [ 0]\n",
      " [ 0]\n",
      " [ 0]\n",
      " [ 0]\n",
      " [ 0]\n",
      " [ 0]\n",
      " [ 0]\n",
      " [ 0]]\n",
      "new jersey est parfois calme en l' de il est il en avril <PAD> <PAD> <PAD> <PAD> <PAD> <PAD> <PAD> <PAD>\n"
     ]
    }
   ],
   "source": [
    "print(tmp_x[:1][0])\n",
    "\n",
    "# Print prediction(s)\n",
    "print(logits_to_text(simple_rnn_model.predict(tmp_x[:1])[0], french_tokenizer))"
   ]
  },
  {
   "cell_type": "markdown",
   "metadata": {},
   "source": [
    "### Model 2: Embedding (IMPLEMENTATION)\n",
    "![RNN](images/embedding.png)\n",
    "You've turned the words into ids, but there's a better representation of a word.  This is called word embeddings.  An embedding is a vector representation of the word that is close to similar words in n-dimensional space, where the n represents the size of the embedding vectors.\n",
    "\n",
    "In this model, you'll create a RNN model using embedding."
   ]
  },
  {
   "cell_type": "code",
   "execution_count": 18,
   "metadata": {},
   "outputs": [
    {
     "name": "stdout",
     "output_type": "stream",
     "text": [
      "_________________________________________________________________\n",
      "Layer (type)                 Output Shape              Param #   \n",
      "=================================================================\n",
      "embedding_3 (Embedding)      (None, 21, 21)            4179      \n",
      "_________________________________________________________________\n",
      "lstm_4 (LSTM)                (None, 21, 200)           177600    \n",
      "_________________________________________________________________\n",
      "time_distributed_4 (TimeDist (None, 21, 344)           69144     \n",
      "=================================================================\n",
      "Total params: 250,923\n",
      "Trainable params: 250,923\n",
      "Non-trainable params: 0\n",
      "_________________________________________________________________\n",
      "None\n"
     ]
    }
   ],
   "source": [
    "def embed_model(input_shape, output_sequence_length, english_vocab_size, french_vocab_size):\n",
    "    \"\"\"\n",
    "    Build and train a RNN model using word embedding on x and y\n",
    "    :param input_shape: Tuple of input shape\n",
    "    :param output_sequence_length: Length of output sequence\n",
    "    :param english_vocab_size: Number of unique English words in the dataset\n",
    "    :param french_vocab_size: Number of unique French words in the dataset\n",
    "    :return: Keras model built, but not trained\n",
    "    \"\"\"\n",
    "    # TODO: Implement the model ===> OK\n",
    "    \n",
    "    learning_rate = 0.01    \n",
    "\n",
    "    model = Sequential() \n",
    "    model.add(Embedding(input_dim=english_vocab_size, output_dim=output_sequence_length, input_shape=input_shape[1:]))\n",
    "    model.add(LSTM(input_shape=input_shape[1:], units=200, return_sequences=True))\n",
    "    model.add(TimeDistributed(Dense(french_vocab_size, activation=\"softmax\")))\n",
    "    print(model.summary())\n",
    "\n",
    "    model.compile(loss='sparse_categorical_crossentropy',\n",
    "                  optimizer=Adam(learning_rate),\n",
    "                  metrics=['accuracy'])\n",
    "    \n",
    "    return model\n",
    "\n",
    "\n",
    "tests.test_embed_model(embed_model)"
   ]
  },
  {
   "cell_type": "code",
   "execution_count": 29,
   "metadata": {},
   "outputs": [
    {
     "name": "stdout",
     "output_type": "stream",
     "text": [
      "_________________________________________________________________\n",
      "Layer (type)                 Output Shape              Param #   \n",
      "=================================================================\n",
      "embedding_9 (Embedding)      (None, 21, 21)            4179      \n",
      "_________________________________________________________________\n",
      "lstm_10 (LSTM)               (None, 21, 200)           177600    \n",
      "_________________________________________________________________\n",
      "time_distributed_5 (TimeDist (None, 21, 344)           69144     \n",
      "=================================================================\n",
      "Total params: 250,923\n",
      "Trainable params: 250,923\n",
      "Non-trainable params: 0\n",
      "_________________________________________________________________\n",
      "None\n",
      "Train on 110288 samples, validate on 27573 samples\n",
      "Epoch 1/10\n",
      "110288/110288 [==============================] - 13s 117us/step - loss: 2.3873 - acc: 0.5084 - val_loss: nan - val_acc: 0.6658\n",
      "Epoch 2/10\n",
      "110288/110288 [==============================] - 12s 112us/step - loss: 0.9178 - acc: 0.7511 - val_loss: nan - val_acc: 0.8240\n",
      "Epoch 3/10\n",
      "110288/110288 [==============================] - 12s 112us/step - loss: 0.4852 - acc: 0.8555 - val_loss: nan - val_acc: 0.8807\n",
      "Epoch 4/10\n",
      "110288/110288 [==============================] - 12s 112us/step - loss: 0.3496 - acc: 0.8900 - val_loss: nan - val_acc: 0.8928\n",
      "Epoch 5/10\n",
      "110288/110288 [==============================] - 12s 112us/step - loss: 0.2913 - acc: 0.9060 - val_loss: nan - val_acc: 0.9097\n",
      "Epoch 6/10\n",
      "110288/110288 [==============================] - 12s 112us/step - loss: 0.2603 - acc: 0.9148 - val_loss: nan - val_acc: 0.9175\n",
      "Epoch 7/10\n",
      "110288/110288 [==============================] - 12s 112us/step - loss: 0.2352 - acc: 0.9216 - val_loss: nan - val_acc: 0.9190\n",
      "Epoch 8/10\n",
      "110288/110288 [==============================] - 12s 112us/step - loss: 0.2232 - acc: 0.9246 - val_loss: nan - val_acc: 0.9239\n",
      "Epoch 9/10\n",
      "110288/110288 [==============================] - 12s 112us/step - loss: 0.2112 - acc: 0.9276 - val_loss: nan - val_acc: 0.9273\n",
      "Epoch 10/10\n",
      "110288/110288 [==============================] - 12s 112us/step - loss: 0.2059 - acc: 0.9292 - val_loss: nan - val_acc: 0.9280\n"
     ]
    },
    {
     "data": {
      "text/plain": [
       "<keras.callbacks.History at 0x7fdb306bd6a0>"
      ]
     },
     "execution_count": 29,
     "metadata": {},
     "output_type": "execute_result"
    }
   ],
   "source": [
    "# TODO: Reshape the input before training ===> OK\n",
    "\n",
    "# Originally English input sentences had a shape (137861, 15). Let's pad to make them same shape as French output.  \n",
    "tmp_x = pad(preproc_english_sentences, max_french_sequence_length) # (137861, 21) \n",
    "\n",
    "# No more reshape needed since tmp_x is 2D tensor prepared to feed the embedding layer. The output of the embedding \n",
    "# layer is a 3D tensor, ready to be feed the LSTM layer. \n",
    "\n",
    "# TODO: Train the neural network ===> OK\n",
    "\n",
    "embedding = embed_model(\n",
    "    tmp_x.shape,\n",
    "    max_french_sequence_length,\n",
    "    english_vocab_size,\n",
    "    french_vocab_size)\n",
    "\n",
    "embedding.fit(tmp_x, preproc_french_sentences, batch_size=1024, epochs=10, validation_split=0.2)\n"
   ]
  },
  {
   "cell_type": "code",
   "execution_count": 31,
   "metadata": {},
   "outputs": [
    {
     "name": "stdout",
     "output_type": "stream",
     "text": [
      "[17 23  1  8 67  4 39  7  3  1 55  2 44  0  0  0  0  0  0  0  0]\n",
      "new jersey est parfois calme en l' automne et il neigeux neigeux en avril <PAD> <PAD> <PAD> <PAD> <PAD> <PAD> <PAD>\n"
     ]
    }
   ],
   "source": [
    "# Print a tensor sample ===> OK\n",
    "print(tmp_x[:1][0])\n",
    "\n",
    "# Print prediction(s) ===> OK\n",
    "print(logits_to_text(embedding.predict(tmp_x[:1])[0], french_tokenizer))"
   ]
  },
  {
   "cell_type": "markdown",
   "metadata": {},
   "source": [
    "### Model 3: Bidirectional RNNs (IMPLEMENTATION)\n",
    "![RNN](images/bidirectional.png)\n",
    "One restriction of a RNN is that it can't see the future input, only the past.  This is where bidirectional recurrent neural networks come in.  They are able to see the future data."
   ]
  },
  {
   "cell_type": "code",
   "execution_count": 22,
   "metadata": {},
   "outputs": [
    {
     "name": "stdout",
     "output_type": "stream",
     "text": [
      "_________________________________________________________________\n",
      "Layer (type)                 Output Shape              Param #   \n",
      "=================================================================\n",
      "bidirectional_7 (Bidirection (None, 21, 400)           323200    \n",
      "_________________________________________________________________\n",
      "time_distributed_4 (TimeDist (None, 21, 344)           137944    \n",
      "=================================================================\n",
      "Total params: 461,144\n",
      "Trainable params: 461,144\n",
      "Non-trainable params: 0\n",
      "_________________________________________________________________\n"
     ]
    }
   ],
   "source": [
    "def bd_model(input_shape, output_sequence_length, english_vocab_size, french_vocab_size):\n",
    "    \"\"\"\n",
    "    Build and train a bidirectional RNN model on x and y\n",
    "    :param input_shape: Tuple of input shape\n",
    "    :param output_sequence_length: Length of output sequence\n",
    "    :param english_vocab_size: Number of unique English words in the dataset\n",
    "    :param french_vocab_size: Number of unique French words in the dataset\n",
    "    :return: Keras model built, but not trained\n",
    "    \"\"\"\n",
    "    # TODO: Implement ===> OK\n",
    "    \n",
    "       \n",
    "    learning_rate = 0.01\n",
    "    \n",
    "    model = Sequential()\n",
    "    model.add(Bidirectional(LSTM(units=200, return_sequences=True), input_shape=input_shape[1:]))  \n",
    "    model.add(TimeDistributed(Dense(french_vocab_size, activation='softmax'))) # labels: french vocab size (categories)\n",
    "    model.compile(loss=sparse_categorical_crossentropy, optimizer=Adam(learning_rate), metrics=['accuracy'])\n",
    "    model.summary()\n",
    "    \n",
    "    return model\n",
    "\n",
    "\n",
    "tests.test_bd_model(bd_model)\n",
    "\n",
    "# Reshape input tensor\n",
    "\n",
    "# Originally English input sentences had a shape (137861, 15). Let's pad to make them same shape as French output.  \n",
    "tmp_x = pad(preproc_english_sentences, max_french_sequence_length) # (137861, 21) \n",
    "# Now we have 137861 samples of a 2D tensor with shape (21, 1) \n",
    "tmp_x = tmp_x.reshape((-1, preproc_french_sentences.shape[-2], 1)) # (137861, 21, 1)\n"
   ]
  },
  {
   "cell_type": "code",
   "execution_count": null,
   "metadata": {},
   "outputs": [],
   "source": [
    "# TODO: Train ===> OK\n",
    "\n",
    "# Train the neural network\n",
    "\n",
    "bidirectional = bd_model(\n",
    "    tmp_x.shape,\n",
    "    max_french_sequence_length,\n",
    "    english_vocab_size,\n",
    "    french_vocab_size)\n",
    "\n",
    "bidirectional.fit(tmp_x, preproc_french_sentences, batch_size=1024, epochs=10, validation_split=0.2)"
   ]
  },
  {
   "cell_type": "code",
   "execution_count": 21,
   "metadata": {},
   "outputs": [
    {
     "name": "stdout",
     "output_type": "stream",
     "text": [
      "[[17]\n",
      " [23]\n",
      " [ 1]\n",
      " [ 8]\n",
      " [67]\n",
      " [ 4]\n",
      " [39]\n",
      " [ 7]\n",
      " [ 3]\n",
      " [ 1]\n",
      " [55]\n",
      " [ 2]\n",
      " [44]\n",
      " [ 0]\n",
      " [ 0]\n",
      " [ 0]\n",
      " [ 0]\n",
      " [ 0]\n",
      " [ 0]\n",
      " [ 0]\n",
      " [ 0]]\n",
      "new jersey est parfois chaud au mois de il est il est en <PAD> <PAD> <PAD> <PAD> <PAD> <PAD> <PAD> <PAD>\n"
     ]
    }
   ],
   "source": [
    "# Print a tensor sample ===> OK\n",
    "print(tmp_x[:1][0])\n",
    "\n",
    "# Print prediction(s) ===> OK\n",
    "print(logits_to_text(bidirectional.predict(tmp_x[:1])[0], french_tokenizer))"
   ]
  },
  {
   "cell_type": "markdown",
   "metadata": {},
   "source": [
    "### Model 4: Encoder-Decoder (OPTIONAL)\n",
    "Time to look at encoder-decoder models.  This model is made up of an encoder and decoder. The encoder creates a matrix representation of the sentence.  The decoder takes this matrix as input and predicts the translation as output.\n",
    "\n",
    "Create an encoder-decoder model in the cell below."
   ]
  },
  {
   "cell_type": "code",
   "execution_count": 13,
   "metadata": {},
   "outputs": [
    {
     "name": "stdout",
     "output_type": "stream",
     "text": [
      "_________________________________________________________________\n",
      "Layer (type)                 Output Shape              Param #   \n",
      "=================================================================\n",
      "lstm_1 (LSTM)                (None, 200)               161600    \n",
      "_________________________________________________________________\n",
      "repeat_vector_1 (RepeatVecto (None, 21, 200)           0         \n",
      "_________________________________________________________________\n",
      "lstm_2 (LSTM)                (None, 21, 200)           320800    \n",
      "_________________________________________________________________\n",
      "time_distributed_1 (TimeDist (None, 21, 344)           69144     \n",
      "=================================================================\n",
      "Total params: 551,544\n",
      "Trainable params: 551,544\n",
      "Non-trainable params: 0\n",
      "_________________________________________________________________\n"
     ]
    }
   ],
   "source": [
    "def encdec_model(input_shape, output_sequence_length, english_vocab_size, french_vocab_size):\n",
    "    \"\"\"\n",
    "    Build and train an encoder-decoder model on x and y\n",
    "    :param input_shape: Tuple of input shape\n",
    "    :param output_sequence_length: Length of output sequence\n",
    "    :param english_vocab_size: Number of unique English words in the dataset\n",
    "    :param french_vocab_size: Number of unique French words in the dataset\n",
    "    :return: Keras model built, but not trained\n",
    "    \"\"\"\n",
    "    # OPTIONAL: Implement ===> OK\n",
    "    \n",
    "    learning_rate = 0.01\n",
    "    \n",
    "    model = Sequential()\n",
    "    \n",
    "    # Encoder input model\n",
    "    #model.add(Embedding(input_dim=english_vocab_size, output_dim=output_sequence_length, input_shape=input_shape[1:]))\n",
    "    model.add(LSTM(input_shape=input_shape[1:], units=200, return_sequences=False)) # only return final output from \n",
    "                                                                                    # every hidden node\n",
    "    model.add(RepeatVector(output_sequence_length)) # repeat the input vector\n",
    "\n",
    "    # Decoder output model \n",
    "    model.add(LSTM(units=200, return_sequences=True)) # careful return_sequences = True, returns \n",
    "    model.add(TimeDistributed(Dense(french_vocab_size, activation='softmax'))) # labels: french vocab size (categories)\n",
    "    model.compile(loss=sparse_categorical_crossentropy, optimizer=Adam(learning_rate), metrics=['accuracy'])\n",
    "    model.summary()\n",
    "       \n",
    "    return model\n",
    "\n",
    "\n",
    "tests.test_encdec_model(encdec_model)"
   ]
  },
  {
   "cell_type": "code",
   "execution_count": 14,
   "metadata": {},
   "outputs": [
    {
     "name": "stdout",
     "output_type": "stream",
     "text": [
      "_________________________________________________________________\n",
      "Layer (type)                 Output Shape              Param #   \n",
      "=================================================================\n",
      "lstm_3 (LSTM)                (None, 200)               161600    \n",
      "_________________________________________________________________\n",
      "repeat_vector_2 (RepeatVecto (None, 21, 200)           0         \n",
      "_________________________________________________________________\n",
      "lstm_4 (LSTM)                (None, 21, 200)           320800    \n",
      "_________________________________________________________________\n",
      "time_distributed_2 (TimeDist (None, 21, 344)           69144     \n",
      "=================================================================\n",
      "Total params: 551,544\n",
      "Trainable params: 551,544\n",
      "Non-trainable params: 0\n",
      "_________________________________________________________________\n",
      "Train on 110288 samples, validate on 27573 samples\n",
      "Epoch 1/10\n",
      "110288/110288 [==============================] - 23s 209us/step - loss: 2.7500 - acc: 0.4495 - val_loss: nan - val_acc: 0.5232\n",
      "Epoch 2/10\n",
      "110288/110288 [==============================] - 21s 189us/step - loss: 1.8673 - acc: 0.5436 - val_loss: nan - val_acc: 0.5754\n",
      "Epoch 3/10\n",
      "110288/110288 [==============================] - 21s 189us/step - loss: 1.5335 - acc: 0.5873 - val_loss: nan - val_acc: 0.6171\n",
      "Epoch 4/10\n",
      "110288/110288 [==============================] - 21s 190us/step - loss: 1.4509 - acc: 0.6029 - val_loss: nan - val_acc: 0.6287\n",
      "Epoch 5/10\n",
      "110288/110288 [==============================] - 21s 190us/step - loss: 1.3082 - acc: 0.6265 - val_loss: nan - val_acc: 0.6361\n",
      "Epoch 6/10\n",
      "110288/110288 [==============================] - 21s 190us/step - loss: 1.2828 - acc: 0.6310 - val_loss: nan - val_acc: 0.6179\n",
      "Epoch 7/10\n",
      "110288/110288 [==============================] - 21s 190us/step - loss: 1.2425 - acc: 0.6385 - val_loss: nan - val_acc: 0.6445\n",
      "Epoch 8/10\n",
      "110288/110288 [==============================] - 21s 190us/step - loss: 1.2032 - acc: 0.6469 - val_loss: nan - val_acc: 0.6532\n",
      "Epoch 9/10\n",
      "110288/110288 [==============================] - 21s 190us/step - loss: 1.2202 - acc: 0.6447 - val_loss: nan - val_acc: 0.6537\n",
      "Epoch 10/10\n",
      "110288/110288 [==============================] - 21s 190us/step - loss: 1.1862 - acc: 0.6511 - val_loss: nan - val_acc: 0.6478\n",
      "[[17]\n",
      " [23]\n",
      " [ 1]\n",
      " [ 8]\n",
      " [67]\n",
      " [ 4]\n",
      " [39]\n",
      " [ 7]\n",
      " [ 3]\n",
      " [ 1]\n",
      " [55]\n",
      " [ 2]\n",
      " [44]\n",
      " [ 0]\n",
      " [ 0]\n",
      " [ 0]\n",
      " [ 0]\n",
      " [ 0]\n",
      " [ 0]\n",
      " [ 0]\n",
      " [ 0]]\n",
      "new jersey est généralement chaud en mois et il est il en en <PAD> <PAD> <PAD> <PAD> <PAD> <PAD> <PAD> <PAD>\n"
     ]
    }
   ],
   "source": [
    "# Reshape input tensor ===> OK\n",
    "\n",
    "# Originally English input sentences had a shape (137861, 15). Let's pad to make them same shape as French output.  \n",
    "tmp_x = pad(preproc_english_sentences, max_french_sequence_length) # (137861, 21) \n",
    "# Now we have 137861 samples of a 2D tensor with shape (21, 1) \n",
    "tmp_x = tmp_x.reshape((-1, preproc_french_sentences.shape[-2], 1)) # (137861, 21, 1)\n",
    "\n",
    "# OPTIONAL: Train and Print prediction(s) ===> OK\n",
    "\n",
    "autoencoder = encdec_model(\n",
    "    tmp_x.shape,\n",
    "    max_french_sequence_length,\n",
    "    english_vocab_size,\n",
    "    french_vocab_size)\n",
    "\n",
    "autoencoder.fit(tmp_x, preproc_french_sentences, batch_size=1024, epochs=10, validation_split=0.2)\n",
    "\n",
    "# Print a tensor sample ===> OK\n",
    "print(tmp_x[:1][0])\n",
    "\n",
    "# Print prediction(s) ===> OK\n",
    "print(logits_to_text(autoencoder.predict(tmp_x[:1])[0], french_tokenizer))"
   ]
  },
  {
   "cell_type": "markdown",
   "metadata": {},
   "source": [
    "### Model 5: Custom (IMPLEMENTATION)\n",
    "Use everything you learned from the previous models to create a model that incorporates embedding and a bidirectional rnn into one model."
   ]
  },
  {
   "cell_type": "code",
   "execution_count": 35,
   "metadata": {},
   "outputs": [
    {
     "name": "stdout",
     "output_type": "stream",
     "text": [
      "_________________________________________________________________\n",
      "Layer (type)                 Output Shape              Param #   \n",
      "=================================================================\n",
      "embedding_18 (Embedding)     (None, 15, 199)           39601     \n",
      "_________________________________________________________________\n",
      "bidirectional_30 (Bidirectio (None, 400)               640000    \n",
      "_________________________________________________________________\n",
      "repeat_vector_15 (RepeatVect (None, 21, 400)           0         \n",
      "_________________________________________________________________\n",
      "bidirectional_31 (Bidirectio (None, 21, 400)           961600    \n",
      "_________________________________________________________________\n",
      "time_distributed_20 (TimeDis (None, 21, 344)           137944    \n",
      "=================================================================\n",
      "Total params: 1,779,145\n",
      "Trainable params: 1,779,145\n",
      "Non-trainable params: 0\n",
      "_________________________________________________________________\n",
      "Final Model Loaded\n"
     ]
    }
   ],
   "source": [
    "def model_final(input_shape, output_sequence_length, english_vocab_size, french_vocab_size):\n",
    "    \"\"\"\n",
    "    Build and train a model that incorporates embedding, encoder-decoder, and bidirectional RNN on x and y\n",
    "    :param input_shape: Tuple of input shape\n",
    "    :param output_sequence_length: Length of output sequence\n",
    "    :param english_vocab_size: Number of unique English words in the dataset\n",
    "    :param french_vocab_size: Number of unique French words in the dataset\n",
    "    :return: Keras model built, but not trained\n",
    "    \"\"\"\n",
    "    # TODO: Implement ===> OK\n",
    "    \n",
    "    learning_rate = 0.01\n",
    "    \n",
    "    # Apply early stopping to prevent overfitting\n",
    "    early_stopping = EarlyStopping(monitor='val_acc', mode='auto')\n",
    "    \n",
    "    model = Sequential()\n",
    "    model.add(Embedding(english_vocab_size, english_vocab_size, input_shape=input_shape[1:])) \n",
    "    model.add(Bidirectional(LSTM(200, return_sequences=False)))  \n",
    "    model.add(RepeatVector(output_sequence_length))\n",
    "    model.add(Bidirectional(LSTM(200, return_sequences=True)))  \n",
    "    model.add(TimeDistributed(Dense(french_vocab_size, activation='softmax')))\n",
    "    model.compile(loss=sparse_categorical_crossentropy, optimizer=Adam(learning_rate), metrics=['accuracy'])\n",
    "    model.summary()\n",
    "    return model\n",
    "\n",
    "tests.test_model_final(model_final)\n",
    "\n",
    "print('Final Model Loaded')"
   ]
  },
  {
   "cell_type": "markdown",
   "metadata": {},
   "source": [
    "## Prediction (IMPLEMENTATION)"
   ]
  },
  {
   "cell_type": "code",
   "execution_count": 37,
   "metadata": {},
   "outputs": [
    {
     "name": "stdout",
     "output_type": "stream",
     "text": [
      "_________________________________________________________________\n",
      "Layer (type)                 Output Shape              Param #   \n",
      "=================================================================\n",
      "embedding_20 (Embedding)     (None, 15, 199)           39601     \n",
      "_________________________________________________________________\n",
      "bidirectional_34 (Bidirectio (None, 400)               640000    \n",
      "_________________________________________________________________\n",
      "repeat_vector_17 (RepeatVect (None, 21, 400)           0         \n",
      "_________________________________________________________________\n",
      "bidirectional_35 (Bidirectio (None, 21, 400)           961600    \n",
      "_________________________________________________________________\n",
      "time_distributed_22 (TimeDis (None, 21, 344)           137944    \n",
      "=================================================================\n",
      "Total params: 1,779,145\n",
      "Trainable params: 1,779,145\n",
      "Non-trainable params: 0\n",
      "_________________________________________________________________\n",
      "Train on 110288 samples, validate on 27573 samples\n",
      "Epoch 1/20\n",
      "110288/110288 [==============================] - 48s 434us/step - loss: 2.0989 - acc: 0.5252 - val_loss: nan - val_acc: 0.6623\n",
      "Epoch 2/20\n",
      "110288/110288 [==============================] - 44s 401us/step - loss: 1.0254 - acc: 0.7072 - val_loss: nan - val_acc: 0.7530\n",
      "Epoch 3/20\n",
      "110288/110288 [==============================] - 44s 401us/step - loss: 0.6478 - acc: 0.8099 - val_loss: nan - val_acc: 0.8590\n",
      "Epoch 4/20\n",
      "110288/110288 [==============================] - 44s 401us/step - loss: 0.3395 - acc: 0.9033 - val_loss: nan - val_acc: 0.9345\n",
      "Epoch 5/20\n",
      "110288/110288 [==============================] - 44s 401us/step - loss: 0.1983 - acc: 0.9446 - val_loss: nan - val_acc: 0.9544\n",
      "Epoch 6/20\n",
      "110288/110288 [==============================] - 44s 401us/step - loss: 0.1337 - acc: 0.9623 - val_loss: nan - val_acc: 0.9653\n",
      "Epoch 7/20\n",
      "110288/110288 [==============================] - 44s 403us/step - loss: 0.1023 - acc: 0.9710 - val_loss: nan - val_acc: 0.9713\n",
      "Epoch 8/20\n",
      "110288/110288 [==============================] - 44s 403us/step - loss: 0.0863 - acc: 0.9754 - val_loss: nan - val_acc: 0.9730\n",
      "Epoch 9/20\n",
      "110288/110288 [==============================] - 45s 404us/step - loss: 0.0776 - acc: 0.9779 - val_loss: nan - val_acc: 0.9738\n",
      "Epoch 10/20\n",
      "110288/110288 [==============================] - 44s 403us/step - loss: 0.0830 - acc: 0.9763 - val_loss: nan - val_acc: 0.9728\n",
      "Epoch 11/20\n",
      "110288/110288 [==============================] - 45s 404us/step - loss: 0.0693 - acc: 0.9800 - val_loss: nan - val_acc: 0.9772\n",
      "Epoch 12/20\n",
      "110288/110288 [==============================] - 45s 404us/step - loss: 0.0551 - acc: 0.9841 - val_loss: nan - val_acc: 0.9794\n",
      "Epoch 13/20\n",
      "110288/110288 [==============================] - 44s 401us/step - loss: 0.0530 - acc: 0.9848 - val_loss: nan - val_acc: 0.9800\n",
      "Epoch 14/20\n",
      "110288/110288 [==============================] - 44s 403us/step - loss: 0.0618 - acc: 0.9821 - val_loss: nan - val_acc: 0.9779\n",
      "Epoch 15/20\n",
      "110288/110288 [==============================] - 44s 403us/step - loss: 0.0485 - acc: 0.9859 - val_loss: nan - val_acc: 0.9805\n",
      "Epoch 16/20\n",
      "110288/110288 [==============================] - 44s 403us/step - loss: 0.0478 - acc: 0.9860 - val_loss: nan - val_acc: 0.9810\n",
      "Epoch 17/20\n",
      "110288/110288 [==============================] - 44s 403us/step - loss: 0.0620 - acc: 0.9820 - val_loss: nan - val_acc: 0.9746\n",
      "Epoch 18/20\n",
      "110288/110288 [==============================] - 44s 401us/step - loss: 0.0548 - acc: 0.9838 - val_loss: nan - val_acc: 0.9810\n",
      "Epoch 19/20\n",
      "110288/110288 [==============================] - 44s 401us/step - loss: 0.0417 - acc: 0.9881 - val_loss: nan - val_acc: 0.9787\n",
      "Epoch 20/20\n",
      "110288/110288 [==============================] - 44s 401us/step - loss: 0.0529 - acc: 0.9845 - val_loss: nan - val_acc: 0.9698\n",
      "Sample 1:\n",
      "il a vu un vieux camion jaune <PAD> <PAD> <PAD> <PAD> <PAD> <PAD> <PAD> <PAD> <PAD> <PAD> <PAD> <PAD> <PAD> <PAD>\n",
      "Il a vu un vieux camion jaune\n",
      "Sample 2:\n",
      "new jersey est parfois calme pendant l' automne et il est neigeux en avril <PAD> <PAD> <PAD> <PAD> <PAD> <PAD> <PAD>\n",
      "new jersey est parfois calme pendant l' automne et il est neigeux en avril <PAD> <PAD> <PAD> <PAD> <PAD> <PAD> <PAD>\n"
     ]
    }
   ],
   "source": [
    "def final_predictions(x, y, x_tk, y_tk):\n",
    "    \"\"\"\n",
    "    Gets predictions using the final model\n",
    "    :param x: Preprocessed English data\n",
    "    :param y: Preprocessed French data\n",
    "    :param x_tk: English tokenizer\n",
    "    :param y_tk: French tokenizer\n",
    "    \"\"\"\n",
    "    # TODO: Train neural network using model_final\n",
    "\n",
    "    model = model_final(x.shape, \n",
    "                        y.shape[1],\n",
    "                        len(x_tk.word_index),\n",
    "                        len(y_tk.word_index))\n",
    "    \n",
    "    model.fit(x, y, batch_size=1024, epochs=20, validation_split=0.2)\n",
    "    \n",
    "    ## DON'T EDIT ANYTHING BELOW THIS LINE\n",
    "    y_id_to_word = {value: key for key, value in y_tk.word_index.items()}\n",
    "    y_id_to_word[0] = '<PAD>'\n",
    "\n",
    "    sentence = 'he saw a old yellow truck'\n",
    "    sentence = [x_tk.word_index[word] for word in sentence.split()]\n",
    "    sentence = pad_sequences([sentence], maxlen=x.shape[-1], padding='post')\n",
    "    sentences = np.array([sentence[0], x[0]])\n",
    "    predictions = model.predict(sentences, len(sentences))\n",
    "\n",
    "    print('Sample 1:')\n",
    "    print(' '.join([y_id_to_word[np.argmax(x)] for x in predictions[0]]))\n",
    "    print('Il a vu un vieux camion jaune')\n",
    "    print('Sample 2:')\n",
    "    print(' '.join([y_id_to_word[np.argmax(x)] for x in predictions[1]]))\n",
    "    print(' '.join([y_id_to_word[np.max(x)] for x in y[0]]))\n",
    "\n",
    "\n",
    "final_predictions(preproc_english_sentences, preproc_french_sentences, english_tokenizer, french_tokenizer)"
   ]
  },
  {
   "cell_type": "markdown",
   "metadata": {},
   "source": [
    "## Submission\n",
    "When you're ready to submit, complete the following steps:\n",
    "1. Review the [rubric](https://review.udacity.com/#!/rubrics/1004/view) to ensure your submission meets all requirements to pass\n",
    "2. Generate an HTML version of this notebook\n",
    "\n",
    "  - Run the next cell to attempt automatic generation (this is the recommended method in Workspaces)\n",
    "  - Navigate to **FILE -> Download as -> HTML (.html)**\n",
    "  - Manually generate a copy using `nbconvert` from your shell terminal\n",
    "```\n",
    "$ pip install nbconvert\n",
    "$ python -m nbconvert machine_translation.ipynb\n",
    "```\n",
    "  \n",
    "3. Submit the project\n",
    "\n",
    "  - If you are in a Workspace, simply click the \"Submit Project\" button (bottom towards the right)\n",
    "  \n",
    "  - Otherwise, add the following files into a zip archive and submit them \n",
    "  - `helper.py`\n",
    "  - `machine_translation.ipynb`\n",
    "  - `machine_translation.html`\n",
    "    - You can export the notebook by navigating to **File -> Download as -> HTML (.html)**."
   ]
  },
  {
   "cell_type": "markdown",
   "metadata": {},
   "source": [
    "### Generate the html\n",
    "\n",
    "**Save your notebook before running the next cell to generate the HTML output.** Then submit your project."
   ]
  },
  {
   "cell_type": "code",
   "execution_count": 2,
   "metadata": {},
   "outputs": [
    {
     "data": {
      "text/plain": [
       "['[NbConvertApp] Converting notebook machine_translation.ipynb to html',\n",
       " '[NbConvertApp] Writing 305996 bytes to machine_translation.html']"
      ]
     },
     "execution_count": 2,
     "metadata": {},
     "output_type": "execute_result"
    }
   ],
   "source": [
    "# Save before you run this cell!\n",
    "!!jupyter nbconvert *.ipynb"
   ]
  },
  {
   "cell_type": "markdown",
   "metadata": {},
   "source": [
    "## Optional Enhancements\n",
    "\n",
    "This project focuses on learning various network architectures for machine translation, but we don't evaluate the models according to best practices by splitting the data into separate test & training sets -- so the model accuracy is overstated. Use the [`sklearn.model_selection.train_test_split()`](http://scikit-learn.org/stable/modules/generated/sklearn.model_selection.train_test_split.html) function to create separate training & test datasets, then retrain each of the models using only the training set and evaluate the prediction accuracy using the hold out test set. Does the \"best\" model change?"
   ]
  }
 ],
 "metadata": {
  "kernelspec": {
   "display_name": "Python 3",
   "language": "python",
   "name": "python3"
  },
  "language_info": {
   "codemirror_mode": {
    "name": "ipython",
    "version": 3
   },
   "file_extension": ".py",
   "mimetype": "text/x-python",
   "name": "python",
   "nbconvert_exporter": "python",
   "pygments_lexer": "ipython3",
   "version": "3.6.3"
  }
 },
 "nbformat": 4,
 "nbformat_minor": 1
}
